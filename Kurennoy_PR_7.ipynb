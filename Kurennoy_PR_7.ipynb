{
 "cells": [
  {
   "cell_type": "markdown",
   "id": "27941e4b",
   "metadata": {},
   "source": [
    "# Завдання 1"
   ]
  },
  {
   "cell_type": "markdown",
   "id": "f2effe4e",
   "metadata": {},
   "source": [
    "## Завантажте датасет для рецензій (ml-100k) за допомогою бібліотеки Surprise.\n",
    "\n"
   ]
  },
  {
   "cell_type": "code",
   "execution_count": 1,
   "id": "2a9ba0c7",
   "metadata": {},
   "outputs": [],
   "source": [
    "from surprise import Dataset, accuracy\n",
    "from surprise import SVD, KNNBasic\n",
    "from surprise.model_selection import cross_validate, train_test_split, GridSearchCV\n",
    "from collections import defaultdict\n",
    "from surprise import AlgoBase, Dataset, PredictionImpossible\n",
    "import pandas as pd\n",
    "import numpy as np"
   ]
  },
  {
   "cell_type": "code",
   "execution_count": 2,
   "id": "56096c00",
   "metadata": {},
   "outputs": [
    {
     "name": "stdout",
     "output_type": "stream",
     "text": [
      "Dataset ml-100k could not be found. Do you want to download it? [Y/n] Y\n",
      "Trying to download dataset from https://files.grouplens.org/datasets/movielens/ml-100k.zip...\n",
      "Done! Dataset ml-100k has been saved to C:\\Users\\Саша/.surprise_data/ml-100k\n"
     ]
    }
   ],
   "source": [
    "data = Dataset.load_builtin('ml-100k')\n"
   ]
  },
  {
   "cell_type": "markdown",
   "id": "ba3d5d26",
   "metadata": {},
   "source": [
    "## Виведіть перші 5 рядків датасету"
   ]
  },
  {
   "cell_type": "code",
   "execution_count": 5,
   "id": "955b3ef7",
   "metadata": {},
   "outputs": [
    {
     "name": "stdout",
     "output_type": "stream",
     "text": [
      "  user_id item_id  rating  timestamp\n",
      "0     196     242     3.0  881250949\n",
      "1     186     302     3.0  891717742\n",
      "2      22     377     1.0  878887116\n",
      "3     244      51     2.0  880606923\n",
      "4     166     346     1.0  886397596\n"
     ]
    }
   ],
   "source": [
    "ratings = data.raw_ratings\n",
    "df = pd.DataFrame(ratings, columns=['user_id', 'item_id', 'rating', 'timestamp'])\n",
    "print(df.head())"
   ]
  },
  {
   "cell_type": "markdown",
   "id": "3ffc4257",
   "metadata": {},
   "source": [
    "##  Реалізуйте два алгоритми для рекомендаційної системи на основі цього датасету. Можна вибрати будь-які алгоритми з бібліотеки Surprise"
   ]
  },
  {
   "cell_type": "code",
   "execution_count": 6,
   "id": "e0af4154",
   "metadata": {},
   "outputs": [],
   "source": [
    "train_set, test_set = train_test_split(data, test_size=0.2)\n",
    "\n",
    "alg1 = SVD()\n",
    "alg2 = KNNBasic()"
   ]
  },
  {
   "cell_type": "markdown",
   "id": "8418f47e",
   "metadata": {},
   "source": [
    "##  Використайте крос-валідацію для підбору оптимальних параметрів для обох алгоритмів."
   ]
  },
  {
   "cell_type": "markdown",
   "id": "60be433a",
   "metadata": {},
   "source": [
    "### Крос-валідація SVD\n"
   ]
  },
  {
   "cell_type": "code",
   "execution_count": 7,
   "id": "aed4e1ee",
   "metadata": {},
   "outputs": [
    {
     "name": "stdout",
     "output_type": "stream",
     "text": [
      "Найкращі параметри для SVD {'n_epochs': 20, 'lr_all': 0.005, 'reg_all': 0.4}\n"
     ]
    }
   ],
   "source": [
    "param_grid = {'n_epochs': [5, 10, 20], 'lr_all': [0.002, 0.005], 'reg_all': [0.4, 0.6]}\n",
    "gs_svd = GridSearchCV(SVD, param_grid, measures=['mae'], cv=5)\n",
    "gs_svd.fit(data)\n",
    "print(\"Найкращі параметри для SVD\", gs_svd.best_params['mae'])"
   ]
  },
  {
   "cell_type": "markdown",
   "id": "6348562b",
   "metadata": {},
   "source": [
    "### Крос-валідація KNNBasic"
   ]
  },
  {
   "cell_type": "code",
   "execution_count": 8,
   "id": "f4d09396",
   "metadata": {},
   "outputs": [
    {
     "name": "stdout",
     "output_type": "stream",
     "text": [
      "Computing the msd similarity matrix...\n",
      "Done computing similarity matrix.\n",
      "Computing the msd similarity matrix...\n",
      "Done computing similarity matrix.\n",
      "Computing the msd similarity matrix...\n",
      "Done computing similarity matrix.\n",
      "Computing the msd similarity matrix...\n",
      "Done computing similarity matrix.\n",
      "Computing the msd similarity matrix...\n",
      "Done computing similarity matrix.\n",
      "Computing the msd similarity matrix...\n",
      "Done computing similarity matrix.\n",
      "Computing the msd similarity matrix...\n",
      "Done computing similarity matrix.\n",
      "Computing the msd similarity matrix...\n",
      "Done computing similarity matrix.\n",
      "Computing the msd similarity matrix...\n",
      "Done computing similarity matrix.\n",
      "Computing the msd similarity matrix...\n",
      "Done computing similarity matrix.\n",
      "Computing the cosine similarity matrix...\n",
      "Done computing similarity matrix.\n",
      "Computing the cosine similarity matrix...\n",
      "Done computing similarity matrix.\n",
      "Computing the cosine similarity matrix...\n",
      "Done computing similarity matrix.\n",
      "Computing the cosine similarity matrix...\n",
      "Done computing similarity matrix.\n",
      "Computing the cosine similarity matrix...\n",
      "Done computing similarity matrix.\n",
      "Computing the cosine similarity matrix...\n",
      "Done computing similarity matrix.\n",
      "Computing the cosine similarity matrix...\n",
      "Done computing similarity matrix.\n",
      "Computing the cosine similarity matrix...\n",
      "Done computing similarity matrix.\n",
      "Computing the cosine similarity matrix...\n",
      "Done computing similarity matrix.\n",
      "Computing the cosine similarity matrix...\n",
      "Done computing similarity matrix.\n",
      "Computing the msd similarity matrix...\n",
      "Done computing similarity matrix.\n",
      "Computing the msd similarity matrix...\n",
      "Done computing similarity matrix.\n",
      "Computing the msd similarity matrix...\n",
      "Done computing similarity matrix.\n",
      "Computing the msd similarity matrix...\n",
      "Done computing similarity matrix.\n",
      "Computing the msd similarity matrix...\n",
      "Done computing similarity matrix.\n",
      "Computing the msd similarity matrix...\n",
      "Done computing similarity matrix.\n",
      "Computing the msd similarity matrix...\n",
      "Done computing similarity matrix.\n",
      "Computing the msd similarity matrix...\n",
      "Done computing similarity matrix.\n",
      "Computing the msd similarity matrix...\n",
      "Done computing similarity matrix.\n",
      "Computing the msd similarity matrix...\n",
      "Done computing similarity matrix.\n",
      "Computing the cosine similarity matrix...\n",
      "Done computing similarity matrix.\n",
      "Computing the cosine similarity matrix...\n",
      "Done computing similarity matrix.\n",
      "Computing the cosine similarity matrix...\n",
      "Done computing similarity matrix.\n",
      "Computing the cosine similarity matrix...\n",
      "Done computing similarity matrix.\n",
      "Computing the cosine similarity matrix...\n",
      "Done computing similarity matrix.\n",
      "Computing the cosine similarity matrix...\n",
      "Done computing similarity matrix.\n",
      "Computing the cosine similarity matrix...\n",
      "Done computing similarity matrix.\n",
      "Computing the cosine similarity matrix...\n",
      "Done computing similarity matrix.\n",
      "Computing the cosine similarity matrix...\n",
      "Done computing similarity matrix.\n",
      "Computing the cosine similarity matrix...\n",
      "Done computing similarity matrix.\n",
      "Computing the msd similarity matrix...\n",
      "Done computing similarity matrix.\n",
      "Computing the msd similarity matrix...\n",
      "Done computing similarity matrix.\n",
      "Computing the msd similarity matrix...\n",
      "Done computing similarity matrix.\n",
      "Computing the msd similarity matrix...\n",
      "Done computing similarity matrix.\n",
      "Computing the msd similarity matrix...\n",
      "Done computing similarity matrix.\n",
      "Computing the msd similarity matrix...\n",
      "Done computing similarity matrix.\n",
      "Computing the msd similarity matrix...\n",
      "Done computing similarity matrix.\n",
      "Computing the msd similarity matrix...\n",
      "Done computing similarity matrix.\n",
      "Computing the msd similarity matrix...\n",
      "Done computing similarity matrix.\n",
      "Computing the msd similarity matrix...\n",
      "Done computing similarity matrix.\n",
      "Computing the cosine similarity matrix...\n",
      "Done computing similarity matrix.\n",
      "Computing the cosine similarity matrix...\n",
      "Done computing similarity matrix.\n",
      "Computing the cosine similarity matrix...\n",
      "Done computing similarity matrix.\n",
      "Computing the cosine similarity matrix...\n",
      "Done computing similarity matrix.\n",
      "Computing the cosine similarity matrix...\n",
      "Done computing similarity matrix.\n",
      "Computing the cosine similarity matrix...\n",
      "Done computing similarity matrix.\n",
      "Computing the cosine similarity matrix...\n",
      "Done computing similarity matrix.\n",
      "Computing the cosine similarity matrix...\n",
      "Done computing similarity matrix.\n",
      "Computing the cosine similarity matrix...\n",
      "Done computing similarity matrix.\n",
      "Computing the cosine similarity matrix...\n",
      "Done computing similarity matrix.\n",
      "Найкращі параметри для KNNBasic {'k': 20, 'sim_options': {'name': 'msd', 'user_based': True}}\n"
     ]
    }
   ],
   "source": [
    "param_grid = {'k': [20, 40, 60], 'sim_options': {'name': ['msd', 'cosine'], 'user_based': [True, False]}}\n",
    "gs_knn = GridSearchCV(KNNBasic, param_grid, measures=['mae'], cv=5)\n",
    "gs_knn.fit(data)\n",
    "print(\"Найкращі параметри для KNNBasic\", gs_knn.best_params['mae'])"
   ]
  },
  {
   "cell_type": "code",
   "execution_count": 9,
   "id": "c6f0c147",
   "metadata": {},
   "outputs": [
    {
     "name": "stdout",
     "output_type": "stream",
     "text": [
      "Computing the msd similarity matrix...\n",
      "Done computing similarity matrix.\n",
      "Computing the msd similarity matrix...\n",
      "Done computing similarity matrix.\n",
      "Computing the msd similarity matrix...\n",
      "Done computing similarity matrix.\n",
      "Computing the msd similarity matrix...\n",
      "Done computing similarity matrix.\n",
      "Computing the msd similarity matrix...\n",
      "Done computing similarity matrix.\n",
      "MAE для KNNBasic: 0.7707887630159491\n",
      "MAE для SVD: 0.7659222343067705\n",
      "Найкращий алгоритм: SVD\n"
     ]
    }
   ],
   "source": [
    "knn_best = gs_knn.best_estimator['mae']\n",
    "svd_best = gs_svd.best_estimator['mae']\n",
    "knn_result = cross_validate(knn_best, data, measures=['mae'], cv=5, verbose=False)\n",
    "svd_result = cross_validate(svd_best, data, measures=['mae'], cv=5, verbose=False)\n",
    "mae_knn = knn_result['test_mae'].mean()\n",
    "mae_svd = svd_result['test_mae'].mean()\n",
    "print(f\"MAE для KNNBasic: {mae_knn}\")\n",
    "print(f\"MAE для SVD: {mae_svd}\")\n",
    "alg_best = knn_best if mae_knn < mae_svd else svd_best\n",
    "print(f\"Найкращий алгоритм: {'KNNBasic' if mae_knn < mae_svd else 'SVD'}\")"
   ]
  },
  {
   "cell_type": "markdown",
   "id": "ac157b57",
   "metadata": {},
   "source": [
    "##  Виведи рекомендації (10 фільмів) для конкретного користувача."
   ]
  },
  {
   "cell_type": "code",
   "execution_count": 13,
   "id": "177256d0",
   "metadata": {},
   "outputs": [
    {
     "name": "stdout",
     "output_type": "stream",
     "text": [
      "Рекомендації користувача 48:\n",
      "Фільм: 408, Рейтинг: 4.27\n",
      "Фільм: 169, Рейтинг: 4.24\n",
      "Фільм: 318, Рейтинг: 4.23\n",
      "Фільм: 64, Рейтинг: 4.20\n",
      "Фільм: 114, Рейтинг: 4.17\n",
      "Фільм: 12, Рейтинг: 4.16\n",
      "Фільм: 1449, Рейтинг: 4.15\n",
      "Фільм: 178, Рейтинг: 4.13\n",
      "Фільм: 513, Рейтинг: 4.11\n",
      "Фільм: 272, Рейтинг: 4.09\n"
     ]
    }
   ],
   "source": [
    "from collections import defaultdict\n",
    "\n",
    "def get_top_n_recommendations(predictions, n=10):\n",
    "    top_n_recommendations = defaultdict(list)\n",
    "\n",
    "    for user_id, item_id, true_rating, estimated_rating, _ in predictions:\n",
    "        top_n_recommendations[user_id].append((item_id, estimated_rating))\n",
    "    \n",
    "    for user_id, user_ratings in top_n_recommendations.items():\n",
    "        user_ratings.sort(key=lambda x: x[1], reverse=True)\n",
    "        top_n_recommendations[user_id] = user_ratings[:n]\n",
    "    \n",
    "    return top_n_recommendations\n",
    "\n",
    "best_algorithm = gs_svd.best_estimator['mae']\n",
    "full_train_set = data.build_full_train_set()\n",
    "best_algorithm.fit(full_train_set)\n",
    "anti_test_set = full_train_set.build_anti_testset()\n",
    "predictions = best_algorithm.test(anti_test_set)\n",
    "top_n_recommendations = get_top_n_recommendations(predictions, n=10)\n",
    "user_id = '48'\n",
    "print(f\"Рекомендації користувача {user_id}:\")\n",
    "for item_id, estimated_rating in top_n_recommendations[user_id]:\n",
    "    print(f\"Фільм: {item_id}, Рейтинг: {estimated_rating:.2f}\")"
   ]
  },
  {
   "cell_type": "markdown",
   "id": "1caca16a",
   "metadata": {},
   "source": [
    "# Завдання 2"
   ]
  },
  {
   "cell_type": "markdown",
   "id": "9747703a",
   "metadata": {},
   "source": [
    "## Побудуйте власну рекомендаційну систему"
   ]
  },
  {
   "cell_type": "code",
   "execution_count": 22,
   "id": "68cc62bd",
   "metadata": {},
   "outputs": [],
   "source": [
    "import numpy as np\n",
    "from surprise import Dataset, AlgoBase, PredictionImpossible\n",
    "from surprise.model_selection import train_test_split, KFold\n",
    "from surprise import accuracy\n",
    "\n",
    "data = Dataset.load_builtin('ml-100k')\n",
    "trainset, testset = train_test_split(data, test_size=0.3)"
   ]
  },
  {
   "cell_type": "code",
   "execution_count": 27,
   "id": "5709adb6",
   "metadata": {},
   "outputs": [
    {
     "name": "stdout",
     "output_type": "stream",
     "text": [
      "MAE:  0.9465\n",
      "MAE:  0.9439\n",
      "MAE:  0.9436\n",
      "Топ 10 рекомендацій для користувача 48: ['501', '202', '53', '214', '663', '237', '117', '227', '175', '91']\n"
     ]
    }
   ],
   "source": [
    "class CustomAlgorithm(AlgoBase):\n",
    "    def __init__(self):\n",
    "        super().__init__()\n",
    "\n",
    "    def fit(self, trainset):\n",
    "        super().fit(trainset)\n",
    "        self.global_mean = np.mean([r for (_, _, r) in trainset.all_ratings()])\n",
    "        self.trainset = trainset  \n",
    "        return self\n",
    "\n",
    "    def estimate(self, user_id, item_id):\n",
    "        if not self.trainset.knows_user(user_id) or not self.trainset.knows_item(item_id):\n",
    "            raise PredictionImpossible(\"Помилка пошуку. Спробуйте ще раз\")\n",
    "        return self.global_mean\n",
    "\n",
    "def get_top_n_recommendations(algorithm, user_id, n=10):\n",
    "    user_inner_id = algorithm.trainset.to_inner_uid(user_id)\n",
    "    all_items = algorithm.trainset.all_items()\n",
    "    \n",
    "    recommendations = []\n",
    "    for item in all_items:\n",
    "        try:\n",
    "            est = algorithm.estimate(user_inner_id, item)\n",
    "            recommendations.append((item, est))\n",
    "        except PredictionImpossible:\n",
    "            continue\n",
    "\n",
    "    recommendations.sort(key=lambda x: x[1], reverse=True)\n",
    "    top_n = [algorithm.trainset.to_raw_iid(item_id) for item_id, _ in recommendations[:n]]\n",
    "    \n",
    "    return top_n\n",
    "my_algorithm = CustomAlgorithm()\n",
    "kf = KFold(n_splits=3)\n",
    "for trainset, testset in kf.split(data):\n",
    "    my_algorithm.fit(trainset)\n",
    "    predictions = my_algorithm.test(testset)\n",
    "    accuracy.mae(predictions)\n",
    "user_id = str(48)\n",
    "top_recommendations = get_top_n_recommendations(my_algorithm, user_id)\n",
    "print(\"Топ 10 рекомендацій для користувача 48:\", top_recommendations)"
   ]
  },
  {
   "cell_type": "markdown",
   "id": "2a0e0935",
   "metadata": {},
   "source": [
    "## Висновки\n",
    "## Програма реалізує просту рекомендаційну систему на основі алгоритму, що використовує середній рейтинг для прогнозування вподобань користувачів. Це дозволяє отримувати рекомендації для конкретного користувача"
   ]
  },
  {
   "cell_type": "code",
   "execution_count": null,
   "id": "d1cc032c",
   "metadata": {},
   "outputs": [],
   "source": []
  }
 ],
 "metadata": {
  "kernelspec": {
   "display_name": "Python 3 (ipykernel)",
   "language": "python",
   "name": "python3"
  },
  "language_info": {
   "codemirror_mode": {
    "name": "ipython",
    "version": 3
   },
   "file_extension": ".py",
   "mimetype": "text/x-python",
   "name": "python",
   "nbconvert_exporter": "python",
   "pygments_lexer": "ipython3",
   "version": "3.11.5"
  }
 },
 "nbformat": 4,
 "nbformat_minor": 5
}
