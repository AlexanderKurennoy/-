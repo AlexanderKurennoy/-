{
 "cells": [
  {
   "cell_type": "code",
   "execution_count": 38,
   "id": "6b6729d6",
   "metadata": {},
   "outputs": [],
   "source": [
    "#імпортування бібліотеки для аналізу\n",
    "import pandas as pd\n",
    "import numpy as np"
   ]
  },
  {
   "cell_type": "code",
   "execution_count": 72,
   "id": "4b7f51ae",
   "metadata": {},
   "outputs": [],
   "source": [
    "#Зчитування датасету\n",
    "url = \"https://en.wikipedia.org/wiki/List_of_countries_by_GDP_(nominal)\"\n",
    "tables = pd.read_html(url)\n",
    "gdp_table = tables[2]"
   ]
  },
  {
   "cell_type": "code",
   "execution_count": 48,
   "id": "49bfe727",
   "metadata": {},
   "outputs": [
    {
     "name": "stdout",
     "output_type": "stream",
     "text": [
      "  Country/Territory IMF[1][13]            World Bank[14]             \\\n",
      "  Country/Territory   Forecast       Year       Estimate       Year   \n",
      "0             World  109529216       2024      105435540       2023   \n",
      "1     United States   28781083       2024       27360935       2023   \n",
      "2             China   18532633  [n 1]2024       17794782  [n 3]2023   \n",
      "3           Germany    4591100       2024        4456081       2023   \n",
      "4             Japan    4110452       2024        4212945       2023   \n",
      "\n",
      "  United Nations[15]             \n",
      "            Estimate       Year  \n",
      "0          100834796       2022  \n",
      "1           25744100       2022  \n",
      "2           17963170  [n 1]2022  \n",
      "3            4076923       2022  \n",
      "4            4232173       2022  \n"
     ]
    }
   ],
   "source": [
    "#Вивід перших 5 рядків датасету\n",
    "print(gdp_table.head(5))\n"
   ]
  },
  {
   "cell_type": "code",
   "execution_count": 42,
   "id": "a76513e5",
   "metadata": {},
   "outputs": [
    {
     "name": "stdout",
     "output_type": "stream",
     "text": [
      "Розмір датасету: (210, 7)\n"
     ]
    }
   ],
   "source": [
    "#Визначити розмір датасету\n",
    "dataset_size = gdp_table.shape\n",
    "print(\"Розмір датасету:\",dataset_size)"
   ]
  },
  {
   "cell_type": "code",
   "execution_count": 43,
   "id": "848c2fdb",
   "metadata": {},
   "outputs": [
    {
     "name": "stdout",
     "output_type": "stream",
     "text": [
      "Кількість стовпців: 7\n"
     ]
    }
   ],
   "source": [
    "#Визначити оптимальну кількість стовпців\n",
    "print(\"Кількість стовпців:\", gdp_table.shape[1])\n"
   ]
  },
  {
   "cell_type": "code",
   "execution_count": 73,
   "id": "df67fbfc",
   "metadata": {},
   "outputs": [
    {
     "name": "stdout",
     "output_type": "stream",
     "text": [
      "Нові назви стовпців: Index(['Country', 'MVF_2024', 'Year_2024', 'WorldBank_2023', 'Year_2023',\n",
      "       'OON_2022', 'Year_2022'],\n",
      "      dtype='object')\n"
     ]
    }
   ],
   "source": [
    "#Змінити назви стовпців на більш зручні\n",
    "gdp_table.columns = [\"Country\", \"MVF_2024\", \"Year_2024\", \"WorldBank_2023\", \"Year_2023\", \"OON_2022\", \"Year_2022\"]\n",
    "print(\"Нові назви стовпців:\", gdp_table.columns)\n",
    "\n"
   ]
  },
  {
   "cell_type": "code",
   "execution_count": 37,
   "id": "86ac88ed",
   "metadata": {},
   "outputs": [
    {
     "name": "stdout",
     "output_type": "stream",
     "text": [
      "Типи даних у стовпцях:\n",
      "Country           object\n",
      "MVF_2024          object\n",
      "Year_2024         object\n",
      "WorldBank_2023    object\n",
      "Year_2023         object\n",
      "OON_2022          object\n",
      "Year_2022         object\n",
      "dtype: object\n"
     ]
    }
   ],
   "source": [
    "#Визначити типи даних\n",
    "print(\"Типи даних у стовпцях:\")\n",
    "print(gdp_table.dtypes)"
   ]
  },
  {
   "cell_type": "code",
   "execution_count": 74,
   "id": "d8f5b6d3",
   "metadata": {},
   "outputs": [
    {
     "name": "stdout",
     "output_type": "stream",
     "text": [
      "Пропущені значення до заміни:\n",
      "Country           0\n",
      "MVF_2024          0\n",
      "Year_2024         0\n",
      "WorldBank_2023    0\n",
      "Year_2023         0\n",
      "OON_2022          0\n",
      "Year_2022         0\n",
      "dtype: int64\n",
      "Пропущені значення після заміни:\n",
      "Country            0\n",
      "MVF_2024          15\n",
      "Year_2024         15\n",
      "WorldBank_2023     8\n",
      "Year_2023          8\n",
      "OON_2022           1\n",
      "Year_2022          1\n",
      "dtype: int64\n",
      "Пропущені значення після заповнення:\n",
      "Country            0\n",
      "MVF_2024           0\n",
      "Year_2024         15\n",
      "WorldBank_2023     0\n",
      "Year_2023          8\n",
      "OON_2022           0\n",
      "Year_2022          1\n",
      "dtype: int64\n"
     ]
    },
    {
     "name": "stderr",
     "output_type": "stream",
     "text": [
      "C:\\Users\\Саша\\AppData\\Local\\Temp\\ipykernel_7840\\855581728.py:11: FutureWarning: The default value of numeric_only in DataFrame.mean is deprecated. In a future version, it will default to False. In addition, specifying 'numeric_only=None' is deprecated. Select only valid columns or specify the value of numeric_only to silence this warning.\n",
      "  gdp_table.fillna(gdp_table.mean(), inplace=True)\n"
     ]
    }
   ],
   "source": [
    "#Замініть у таблиці значення \"—\" на значення NaN. Перевірити наявність пропущених значень.\n",
    "#При наявності, замінити пропущені значення на середнє значення.\n",
    "print(\"Пропущені значення до заміни:\")\n",
    "print(gdp_table.isna().sum())\n",
    "gdp_table.replace(\"—\", np.nan, inplace=True)\n",
    "print(\"Пропущені значення після заміни:\")\n",
    "print(gdp_table.isna().sum())\n",
    "non_numeric_cols = ['Country','Year_2022', 'Year_2024', 'Year_2023'] \n",
    "numeric_cols = gdp_table.select_dtypes(include=['object']).columns.difference(non_numeric_cols)\n",
    "gdp_table[numeric_cols] = gdp_table[numeric_cols].apply(pd.to_numeric, errors='coerce')\n",
    "gdp_table.fillna(gdp_table.mean(), inplace=True)\n",
    "print(\"Пропущені значення після заповнення:\")\n",
    "print(gdp_table.isna().sum())\n",
    "\n"
   ]
  },
  {
   "cell_type": "code",
   "execution_count": 76,
   "id": "343917dc",
   "metadata": {},
   "outputs": [
    {
     "name": "stdout",
     "output_type": "stream",
     "text": [
      "Пропущені значення після заповнення:\n",
      "Country            0\n",
      "MVF_2024           0\n",
      "Year_2024         15\n",
      "WorldBank_2023     0\n",
      "Year_2023          8\n",
      "OON_2022           0\n",
      "Year_2022          1\n",
      "dtype: int64\n"
     ]
    }
   ],
   "source": [
    "#Ще раз перевірити наявність пропущених значень\n",
    "print(\"Пропущені значення після заповнення:\")\n",
    "print(gdp_table.isna().sum())"
   ]
  },
  {
   "cell_type": "code",
   "execution_count": 77,
   "id": "6b65b4d2",
   "metadata": {},
   "outputs": [
    {
     "name": "stdout",
     "output_type": "stream",
     "text": [
      "Кількість дублікатів: 0\n"
     ]
    }
   ],
   "source": [
    "#Перевірити наявність дублікатів. При наявності видалити дублікати.\n",
    "duplicates = gdp_table.duplicated().sum()\n",
    "print(\"Кількість дублікатів:\", duplicates)\n",
    "\n",
    "gdp_table.drop_duplicates(inplace=True)"
   ]
  },
  {
   "cell_type": "code",
   "execution_count": 80,
   "id": "8c90a8e8",
   "metadata": {},
   "outputs": [
    {
     "name": "stdout",
     "output_type": "stream",
     "text": [
      "Описова статистика:\n",
      "           MVF_2024  WorldBank_2023      OON_2022\n",
      "count  2.100000e+02    2.100000e+02  2.100000e+02\n",
      "mean   1.123228e+06    1.037206e+06  9.612699e+05\n",
      "std    7.900707e+06    7.602076e+06  7.275608e+06\n",
      "min    6.600000e+01    6.200000e+01  5.900000e+01\n",
      "25%    1.464775e+04    1.044175e+04  8.928250e+03\n",
      "50%    6.215800e+04    4.341600e+04  3.210250e+04\n",
      "75%    4.366365e+05    3.376592e+05  2.412485e+05\n",
      "max    1.095292e+08    1.054355e+08  1.008348e+08\n"
     ]
    }
   ],
   "source": [
    "#Вивести описову статистику датасету describe()\n",
    "print(\"Описова статистика:\")\n",
    "print(gdp_table.describe())"
   ]
  },
  {
   "cell_type": "code",
   "execution_count": 96,
   "id": "99ff7b60",
   "metadata": {},
   "outputs": [
    {
     "name": "stdout",
     "output_type": "stream",
     "text": [
      "         Country     MVF_2024  Year_2024  WorldBank_2023  Year_2023  \\\n",
      "0          World  109529216.0       2024     105435540.0       2023   \n",
      "1  United States   28781083.0       2024      27360935.0       2023   \n",
      "2          China   18532633.0  [n 1]2024      17794782.0  [n 3]2023   \n",
      "3        Germany    4591100.0       2024       4456081.0       2023   \n",
      "4          Japan    4110452.0       2024       4212945.0       2023   \n",
      "\n",
      "      OON_2022  Year_2022  Deviation  Std_Deviation  \n",
      "0  100834796.0       2022  4093676.0   4.349674e+06  \n",
      "1   25744100.0       2022  1420148.0   1.519553e+06  \n",
      "2   17963170.0  [n 1]2022   737851.0   3.866667e+05  \n",
      "3    4076923.0       2022   135019.0   2.665736e+05  \n",
      "4    4232173.0       2022  -102493.0   6.543512e+04  \n",
      "Країна з найбільшим відхиленням: United States\n"
     ]
    }
   ],
   "source": [
    "#Визначте відхилення (різницю) між показниками MVF_2024 та WorldBank_2023 для кожної країни.\n",
    "#У яких країнах ці показники найбільше відрізняються\n",
    "gdp_table['Deviation'] = gdp_table['MVF_2024'] - gdp_table['WorldBank_2023']\n",
    "print(gdp_table.head(5))\n",
    "filtered_table = gdp_table[gdp_table['Country'] != 'World']\n",
    "max_deviation_country = filtered_table.loc[filtered_table['Deviation'].idxmax()]['Country']\n",
    "print(f\"Країна з найбільшим відхиленням: {max_deviation_country}\")\n"
   ]
  },
  {
   "cell_type": "code",
   "execution_count": 86,
   "id": "29ff7e62",
   "metadata": {},
   "outputs": [
    {
     "name": "stdout",
     "output_type": "stream",
     "text": [
      "Кореляція між показниками:\n",
      "                MVF_2024  WorldBank_2023  OON_2022\n",
      "MVF_2024        1.000000        0.999351  0.999246\n",
      "WorldBank_2023  0.999351        1.000000  0.999656\n",
      "OON_2022        0.999246        0.999656  1.000000\n"
     ]
    }
   ],
   "source": [
    "#Обчисліть кореляцію між показниками MVF_2024, WorldBank_2023 та OON_2022.\n",
    "#Які пари змінних мають найвищу кореляцію?\n",
    "correlation = gdp_table[[\"MVF_2024\", \"WorldBank_2023\", \"OON_2022\"]].corr()\n",
    "print(\"Кореляція між показниками:\")\n",
    "print(correlation)\n",
    "#Найбільшу кореляцію мають пари (WorldBank_2023, MVF_2024), (OON_2022, WorldBank_2023)"
   ]
  },
  {
   "cell_type": "code",
   "execution_count": 88,
   "id": "73e16ffe",
   "metadata": {},
   "outputs": [
    {
     "name": "stdout",
     "output_type": "stream",
     "text": [
      "Середні значення для кожного стовпця:\n",
      "MVF_2024          1.123228e+06\n",
      "WorldBank_2023    1.037206e+06\n",
      "OON_2022          9.612699e+05\n",
      "dtype: float64\n",
      "MVF 2024 mean for Ukraine: 188943.0\n",
      "WorldBank 2023 mean for Ukraine: 178757.0\n",
      "OON 2022 mean for Ukraine: 160502.0\n"
     ]
    }
   ],
   "source": [
    "#Обчисліть середнє значення для кожного стовпця (MVF_2024, WorldBank_2023, OON_2022).\n",
    "#Як це середнє значення змінюється між роками?\n",
    "mean_values = gdp_table[[\"MVF_2024\", \"WorldBank_2023\", \"OON_2022\"]].mean()\n",
    "print(\"Середні значення для кожного стовпця:\")\n",
    "print(mean_values)\n",
    "ukraine_data = gdp_table[gdp_table['Country'] == 'Ukraine']\n",
    "mean_mvf_ua = ukraine_data['MVF_2024'].mean()\n",
    "mean_wb_ua = ukraine_data['WorldBank_2023'].mean()\n",
    "mean_oon_ua = ukraine_data['OON_2022'].mean()\n",
    "print(f'MVF 2024 mean for Ukraine: {mean_mvf_ua}')\n",
    "print(f'WorldBank 2023 mean for Ukraine: {mean_wb_ua}')  \n",
    "print(f'OON 2022 mean for Ukraine: {mean_oon_ua}')\n",
    "#Середнє значення збільшувалось в Україні"
   ]
  },
  {
   "cell_type": "code",
   "execution_count": 97,
   "id": "aa18a896",
   "metadata": {},
   "outputs": [
    {
     "name": "stdout",
     "output_type": "stream",
     "text": [
      "         Country     MVF_2024  Year_2024  WorldBank_2023  Year_2023  \\\n",
      "0          World  109529216.0       2024     105435540.0       2023   \n",
      "1  United States   28781083.0       2024      27360935.0       2023   \n",
      "2          China   18532633.0  [n 1]2024      17794782.0  [n 3]2023   \n",
      "3        Germany    4591100.0       2024       4456081.0       2023   \n",
      "4          Japan    4110452.0       2024       4212945.0       2023   \n",
      "\n",
      "      OON_2022  Year_2022  Deviation  Std_Deviation  \n",
      "0  100834796.0       2022  4093676.0   4.349674e+06  \n",
      "1   25744100.0       2022  1420148.0   1.519553e+06  \n",
      "2   17963170.0  [n 1]2022   737851.0   3.866667e+05  \n",
      "3    4076923.0       2022   135019.0   2.665736e+05  \n",
      "4    4232173.0       2022  -102493.0   6.543512e+04  \n",
      "Країна з найвищою варіативністю: United States\n"
     ]
    }
   ],
   "source": [
    "#Обчисліть стандартне відхилення показників для кожної країни.\n",
    "#Яка країна має найвищу варіативність у показниках між роками?\n",
    "gdp_table['Std_Deviation'] = gdp_table[[\"MVF_2024\", \"WorldBank_2023\", \"OON_2022\"]].std(axis=1)\n",
    "filtered_table = gdp_table[gdp_table['Country'] != 'World']\n",
    "max_variability_country = filtered_table.loc[filtered_table['Std_Deviation'].idxmax()]['Country']\n",
    "print(gdp_table.head(5))\n",
    "print(f\"Країна з найвищою варіативністю: {max_variability_country}\")\n"
   ]
  },
  {
   "cell_type": "code",
   "execution_count": 101,
   "id": "bef1c4a0",
   "metadata": {},
   "outputs": [
    {
     "name": "stdout",
     "output_type": "stream",
     "text": [
      "Країна з найвищим MVF_2024: United States\n",
      "Країна з найнижчим MVF_2024: Tuvalu\n",
      "Країна з найвищим WorldBank_2023: United States\n",
      "Країна з найнижчим WorldBank_2023: Tuvalu\n",
      "Країна з найвищим OON_2022: United States\n",
      "Країна з найнижчим OON_2022: Tuvalu\n"
     ]
    }
   ],
   "source": [
    "#Визначення країни з найвищим та найнижчим показниками:\n",
    "#Знайдіть країну з найвищим та найнижчим показниками у\n",
    "#кожному з років (MVF_2024, WorldBank_2023, OON_2022).\n",
    "max_mvf_2024_country = filtered_table.loc[filtered_table['MVF_2024'].idxmax()]['Country']\n",
    "min_mvf_2024_country = filtered_table.loc[filtered_table['MVF_2024'].idxmin()]['Country']\n",
    "max_wb_2023_country = filtered_table.loc[filtered_table['WorldBank_2023'].idxmax()]['Country']\n",
    "min_wb_2023_country = filtered_table.loc[filtered_table['WorldBank_2023'].idxmin()]['Country']\n",
    "max_oon_2022_country = filtered_table.loc[filtered_table['OON_2022'].idxmax()]['Country']\n",
    "min_oon_2022_country = filtered_table.loc[filtered_table['OON_2022'].idxmin()]['Country']\n",
    "\n",
    "print(f\"Країна з найвищим MVF_2024: {max_mvf_2024_country}\")\n",
    "print(f\"Країна з найнижчим MVF_2024: {min_mvf_2024_country}\")\n",
    "print(f\"Країна з найвищим WorldBank_2023: {max_wb_2023_country}\")\n",
    "print(f\"Країна з найнижчим WorldBank_2023: {min_wb_2023_country}\")\n",
    "print(f\"Країна з найвищим OON_2022: {max_oon_2022_country}\")\n",
    "print(f\"Країна з найнижчим OON_2022: {min_oon_2022_country}\")\n"
   ]
  },
  {
   "cell_type": "code",
   "execution_count": 108,
   "id": "a687c3a4",
   "metadata": {},
   "outputs": [
    {
     "data": {
      "image/png": "[encoded data removed]",
      "text/plain": [
       "<Figure size 640x480 with 1 Axes>"
      ]
     },
     "metadata": {},
     "output_type": "display_data"
    }
   ],
   "source": [
    "#Побудуйте гістограму для розподілу показників MVF_2024\n",
    "#серед всіх країн.\n",
    "import matplotlib.pyplot as plt\n",
    "mvf_2024 = gdp_table['MVF_2024']\n",
    "plt.hist(mvf_2024)\n",
    "plt.xlabel('MVF 2024')\n",
    "plt.ylabel('Countries count')\n",
    "plt.show()\n",
    "#Гістограма показує, що більшість країн мають дуже низькі значення показника MVF_2024.\n",
    "#Лише кілька країн мають значення, які значно перевищують цей рівень, а саме великі економіки Китай, США, Індія"
   ]
  },
  {
   "cell_type": "code",
   "execution_count": 110,
   "id": "be9a9024",
   "metadata": {},
   "outputs": [
    {
     "name": "stdout",
     "output_type": "stream",
     "text": [
      "Частки кожної країни у загальному значенні:\n",
      "              Country  Share_MVF_2024  Share_WorldBank_2023  Share_OON_2022\n",
      "0               World    4.643473e-01          4.840638e-01    4.995119e-01\n",
      "1       United States    1.220169e-01          1.256165e-01    1.275302e-01\n",
      "2               China    7.856878e-02          8.169741e-02    8.898532e-02\n",
      "3             Germany    1.946389e-02          2.045826e-02    2.019612e-02\n",
      "4               Japan    1.742619e-02          1.934200e-02    2.096519e-02\n",
      "..                ...             ...                   ...             ...\n",
      "205          Kiribati    1.318479e-06          1.280914e-06    1.104690e-06\n",
      "206             Palau    1.305761e-06          1.207456e-06    1.114597e-06\n",
      "207  Marshall Islands    1.293042e-06          1.303869e-06    1.382100e-06\n",
      "208             Nauru    6.825568e-07          7.070275e-07    7.282034e-07\n",
      "209            Tuvalu    2.798059e-07          2.846475e-07    2.922721e-07\n",
      "\n",
      "[210 rows x 4 columns]\n"
     ]
    }
   ],
   "source": [
    "#Розрахуйте частку кожної країни в загальному значенні для кожного року (MVF_2024, WorldBank_2023, OON_2022).\n",
    "#Як змінюються частки країн з часом (дати відповідь)?\n",
    "gdp_table['Share_MVF_2024'] = gdp_table['MVF_2024'] / gdp_table['MVF_2024'].sum()\n",
    "gdp_table['Share_WorldBank_2023'] = gdp_table['WorldBank_2023'] / gdp_table['WorldBank_2023'].sum()\n",
    "gdp_table['Share_OON_2022'] = gdp_table['OON_2022'] / gdp_table['OON_2022'].sum()\n",
    "\n",
    "print(\"Частки кожної країни у загальному значенні:\")\n",
    "print(gdp_table[['Country', 'Share_MVF_2024', 'Share_WorldBank_2023', 'Share_OON_2022']])\n",
    "#Економіка США, Китаю, Німеччини скорочується на протязі часу, як і всього світу загалом\n"
   ]
  },
  {
   "cell_type": "code",
   "execution_count": 111,
   "id": "baa13b37",
   "metadata": {},
   "outputs": [],
   "source": [
    "#Завдання 2\n"
   ]
  },
  {
   "cell_type": "code",
   "execution_count": 243,
   "id": "4c5b3cf1",
   "metadata": {},
   "outputs": [
    {
     "data": {
      "text/html": [
       "<div>\n",
       "<style scoped>\n",
       "    .dataframe tbody tr th:only-of-type {\n",
       "        vertical-align: middle;\n",
       "    }\n",
       "\n",
       "    .dataframe tbody tr th {\n",
       "        vertical-align: top;\n",
       "    }\n",
       "\n",
       "    .dataframe thead th {\n",
       "        text-align: right;\n",
       "    }\n",
       "</style>\n",
       "<table border=\"1\" class=\"dataframe\">\n",
       "  <thead>\n",
       "    <tr style=\"text-align: right;\">\n",
       "      <th></th>\n",
       "      <th>PassengerId</th>\n",
       "      <th>Survived</th>\n",
       "      <th>Pclass</th>\n",
       "      <th>Name</th>\n",
       "      <th>Sex</th>\n",
       "      <th>Age</th>\n",
       "      <th>SibSp</th>\n",
       "      <th>Parch</th>\n",
       "      <th>Ticket</th>\n",
       "      <th>Fare</th>\n",
       "      <th>Cabin</th>\n",
       "      <th>Embarked</th>\n",
       "    </tr>\n",
       "  </thead>\n",
       "  <tbody>\n",
       "    <tr>\n",
       "      <th>0</th>\n",
       "      <td>1</td>\n",
       "      <td>0</td>\n",
       "      <td>3</td>\n",
       "      <td>Braund, Mr. Owen Harris</td>\n",
       "      <td>male</td>\n",
       "      <td>22.0</td>\n",
       "      <td>1</td>\n",
       "      <td>0</td>\n",
       "      <td>A/5 21171</td>\n",
       "      <td>7.2500</td>\n",
       "      <td>NaN</td>\n",
       "      <td>S</td>\n",
       "    </tr>\n",
       "    <tr>\n",
       "      <th>1</th>\n",
       "      <td>2</td>\n",
       "      <td>1</td>\n",
       "      <td>1</td>\n",
       "      <td>Cumings, Mrs. John Bradley (Florence Briggs Th...</td>\n",
       "      <td>female</td>\n",
       "      <td>38.0</td>\n",
       "      <td>1</td>\n",
       "      <td>0</td>\n",
       "      <td>PC 17599</td>\n",
       "      <td>71.2833</td>\n",
       "      <td>C85</td>\n",
       "      <td>C</td>\n",
       "    </tr>\n",
       "    <tr>\n",
       "      <th>2</th>\n",
       "      <td>3</td>\n",
       "      <td>1</td>\n",
       "      <td>3</td>\n",
       "      <td>Heikkinen, Miss. Laina</td>\n",
       "      <td>female</td>\n",
       "      <td>26.0</td>\n",
       "      <td>0</td>\n",
       "      <td>0</td>\n",
       "      <td>STON/O2. 3101282</td>\n",
       "      <td>7.9250</td>\n",
       "      <td>NaN</td>\n",
       "      <td>S</td>\n",
       "    </tr>\n",
       "    <tr>\n",
       "      <th>3</th>\n",
       "      <td>4</td>\n",
       "      <td>1</td>\n",
       "      <td>1</td>\n",
       "      <td>Futrelle, Mrs. Jacques Heath (Lily May Peel)</td>\n",
       "      <td>female</td>\n",
       "      <td>35.0</td>\n",
       "      <td>1</td>\n",
       "      <td>0</td>\n",
       "      <td>113803</td>\n",
       "      <td>53.1000</td>\n",
       "      <td>C123</td>\n",
       "      <td>S</td>\n",
       "    </tr>\n",
       "    <tr>\n",
       "      <th>4</th>\n",
       "      <td>5</td>\n",
       "      <td>0</td>\n",
       "      <td>3</td>\n",
       "      <td>Allen, Mr. William Henry</td>\n",
       "      <td>male</td>\n",
       "      <td>35.0</td>\n",
       "      <td>0</td>\n",
       "      <td>0</td>\n",
       "      <td>373450</td>\n",
       "      <td>8.0500</td>\n",
       "      <td>NaN</td>\n",
       "      <td>S</td>\n",
       "    </tr>\n",
       "    <tr>\n",
       "      <th>...</th>\n",
       "      <td>...</td>\n",
       "      <td>...</td>\n",
       "      <td>...</td>\n",
       "      <td>...</td>\n",
       "      <td>...</td>\n",
       "      <td>...</td>\n",
       "      <td>...</td>\n",
       "      <td>...</td>\n",
       "      <td>...</td>\n",
       "      <td>...</td>\n",
       "      <td>...</td>\n",
       "      <td>...</td>\n",
       "    </tr>\n",
       "    <tr>\n",
       "      <th>886</th>\n",
       "      <td>887</td>\n",
       "      <td>0</td>\n",
       "      <td>2</td>\n",
       "      <td>Montvila, Rev. Juozas</td>\n",
       "      <td>male</td>\n",
       "      <td>27.0</td>\n",
       "      <td>0</td>\n",
       "      <td>0</td>\n",
       "      <td>211536</td>\n",
       "      <td>13.0000</td>\n",
       "      <td>NaN</td>\n",
       "      <td>S</td>\n",
       "    </tr>\n",
       "    <tr>\n",
       "      <th>887</th>\n",
       "      <td>888</td>\n",
       "      <td>1</td>\n",
       "      <td>1</td>\n",
       "      <td>Graham, Miss. Margaret Edith</td>\n",
       "      <td>female</td>\n",
       "      <td>19.0</td>\n",
       "      <td>0</td>\n",
       "      <td>0</td>\n",
       "      <td>112053</td>\n",
       "      <td>30.0000</td>\n",
       "      <td>B42</td>\n",
       "      <td>S</td>\n",
       "    </tr>\n",
       "    <tr>\n",
       "      <th>888</th>\n",
       "      <td>889</td>\n",
       "      <td>0</td>\n",
       "      <td>3</td>\n",
       "      <td>Johnston, Miss. Catherine Helen \"Carrie\"</td>\n",
       "      <td>female</td>\n",
       "      <td>NaN</td>\n",
       "      <td>1</td>\n",
       "      <td>2</td>\n",
       "      <td>W./C. 6607</td>\n",
       "      <td>23.4500</td>\n",
       "      <td>NaN</td>\n",
       "      <td>S</td>\n",
       "    </tr>\n",
       "    <tr>\n",
       "      <th>889</th>\n",
       "      <td>890</td>\n",
       "      <td>1</td>\n",
       "      <td>1</td>\n",
       "      <td>Behr, Mr. Karl Howell</td>\n",
       "      <td>male</td>\n",
       "      <td>26.0</td>\n",
       "      <td>0</td>\n",
       "      <td>0</td>\n",
       "      <td>111369</td>\n",
       "      <td>30.0000</td>\n",
       "      <td>C148</td>\n",
       "      <td>C</td>\n",
       "    </tr>\n",
       "    <tr>\n",
       "      <th>890</th>\n",
       "      <td>891</td>\n",
       "      <td>0</td>\n",
       "      <td>3</td>\n",
       "      <td>Dooley, Mr. Patrick</td>\n",
       "      <td>male</td>\n",
       "      <td>32.0</td>\n",
       "      <td>0</td>\n",
       "      <td>0</td>\n",
       "      <td>370376</td>\n",
       "      <td>7.7500</td>\n",
       "      <td>NaN</td>\n",
       "      <td>Q</td>\n",
       "    </tr>\n",
       "  </tbody>\n",
       "</table>\n",
       "<p>891 rows × 12 columns</p>\n",
       "</div>"
      ],
      "text/plain": [
       "     PassengerId  Survived  Pclass  \\\n",
       "0              1         0       3   \n",
       "1              2         1       1   \n",
       "2              3         1       3   \n",
       "3              4         1       1   \n",
       "4              5         0       3   \n",
       "..           ...       ...     ...   \n",
       "886          887         0       2   \n",
       "887          888         1       1   \n",
       "888          889         0       3   \n",
       "889          890         1       1   \n",
       "890          891         0       3   \n",
       "\n",
       "                                                  Name     Sex   Age  SibSp  \\\n",
       "0                              Braund, Mr. Owen Harris    male  22.0      1   \n",
       "1    Cumings, Mrs. John Bradley (Florence Briggs Th...  female  38.0      1   \n",
       "2                               Heikkinen, Miss. Laina  female  26.0      0   \n",
       "3         Futrelle, Mrs. Jacques Heath (Lily May Peel)  female  35.0      1   \n",
       "4                             Allen, Mr. William Henry    male  35.0      0   \n",
       "..                                                 ...     ...   ...    ...   \n",
       "886                              Montvila, Rev. Juozas    male  27.0      0   \n",
       "887                       Graham, Miss. Margaret Edith  female  19.0      0   \n",
       "888           Johnston, Miss. Catherine Helen \"Carrie\"  female   NaN      1   \n",
       "889                              Behr, Mr. Karl Howell    male  26.0      0   \n",
       "890                                Dooley, Mr. Patrick    male  32.0      0   \n",
       "\n",
       "     Parch            Ticket     Fare Cabin Embarked  \n",
       "0        0         A/5 21171   7.2500   NaN        S  \n",
       "1        0          PC 17599  71.2833   C85        C  \n",
       "2        0  STON/O2. 3101282   7.9250   NaN        S  \n",
       "3        0            113803  53.1000  C123        S  \n",
       "4        0            373450   8.0500   NaN        S  \n",
       "..     ...               ...      ...   ...      ...  \n",
       "886      0            211536  13.0000   NaN        S  \n",
       "887      0            112053  30.0000   B42        S  \n",
       "888      2        W./C. 6607  23.4500   NaN        S  \n",
       "889      0            111369  30.0000  C148        C  \n",
       "890      0            370376   7.7500   NaN        Q  \n",
       "\n",
       "[891 rows x 12 columns]"
      ]
     },
     "execution_count": 243,
     "metadata": {},
     "output_type": "execute_result"
    }
   ],
   "source": [
    "#Завантаження датасету\n",
    "df = pd.read_csv('titanic.csv', sep=',')\n",
    "df\n",
    "\n",
    "\n"
   ]
  },
  {
   "cell_type": "code",
   "execution_count": 229,
   "id": "1e9de42c",
   "metadata": {},
   "outputs": [
    {
     "name": "stdout",
     "output_type": "stream",
     "text": [
      "   PassengerId  Survived  Pclass  \\\n",
      "0            1         0       3   \n",
      "1            2         1       1   \n",
      "2            3         1       3   \n",
      "3            4         1       1   \n",
      "4            5         0       3   \n",
      "\n",
      "                                                Name     Sex   Age  SibSp  \\\n",
      "0                            Braund, Mr. Owen Harris    male  22.0      1   \n",
      "1  Cumings, Mrs. John Bradley (Florence Briggs Th...  female  38.0      1   \n",
      "2                             Heikkinen, Miss. Laina  female  26.0      0   \n",
      "3       Futrelle, Mrs. Jacques Heath (Lily May Peel)  female  35.0      1   \n",
      "4                           Allen, Mr. William Henry    male  35.0      0   \n",
      "\n",
      "   Parch            Ticket     Fare Cabin Embarked  \n",
      "0      0         A/5 21171   7.2500   NaN        S  \n",
      "1      0          PC 17599  71.2833   C85        C  \n",
      "2      0  STON/O2. 3101282   7.9250   NaN        S  \n",
      "3      0            113803  53.1000  C123        S  \n",
      "4      0            373450   8.0500   NaN        S  \n"
     ]
    }
   ],
   "source": [
    "#Вивести перших 5 рядків.\n",
    "print(df.head(5))\n"
   ]
  },
  {
   "cell_type": "code",
   "execution_count": 230,
   "id": "67957e0f",
   "metadata": {},
   "outputs": [
    {
     "name": "stdout",
     "output_type": "stream",
     "text": [
      "(891, 12)\n"
     ]
    }
   ],
   "source": [
    "#Визначити розмір датасета.\n",
    "print(df.shape)\n"
   ]
  },
  {
   "cell_type": "code",
   "execution_count": 231,
   "id": "39166c1a",
   "metadata": {},
   "outputs": [
    {
     "name": "stdout",
     "output_type": "stream",
     "text": [
      "PassengerId      int64\n",
      "Survived         int64\n",
      "Pclass           int64\n",
      "Name            object\n",
      "Sex             object\n",
      "Age            float64\n",
      "SibSp            int64\n",
      "Parch            int64\n",
      "Ticket          object\n",
      "Fare           float64\n",
      "Cabin           object\n",
      "Embarked        object\n",
      "dtype: object\n"
     ]
    }
   ],
   "source": [
    "#Визначити тип даних.\n",
    "print(df.dtypes)\n"
   ]
  },
  {
   "cell_type": "code",
   "execution_count": 244,
   "id": "77860b10",
   "metadata": {},
   "outputs": [
    {
     "name": "stdout",
     "output_type": "stream",
     "text": [
      "PassengerId      0\n",
      "Survived         0\n",
      "Pclass           0\n",
      "Name             0\n",
      "Sex              0\n",
      "Age            177\n",
      "SibSp            0\n",
      "Parch            0\n",
      "Ticket           0\n",
      "Fare             0\n",
      "Cabin          687\n",
      "Embarked         2\n",
      "dtype: int64\n"
     ]
    }
   ],
   "source": [
    "#Визначити наявність пропущених значень.\n",
    "#При наявності, замінити пропущені значення на середнє значення.\n",
    "print(df.isnull().sum())\n",
    "df['Age'].fillna(df['Age'].mean(), inplace=True)"
   ]
  },
  {
   "cell_type": "code",
   "execution_count": 235,
   "id": "dbe22e54",
   "metadata": {},
   "outputs": [
    {
     "name": "stdout",
     "output_type": "stream",
     "text": [
      "PassengerId      0\n",
      "Survived         0\n",
      "Pclass           0\n",
      "Name             0\n",
      "Sex              0\n",
      "Age              0\n",
      "SibSp            0\n",
      "Parch            0\n",
      "Ticket           0\n",
      "Fare             0\n",
      "Cabin          687\n",
      "Embarked         2\n",
      "dtype: int64\n"
     ]
    }
   ],
   "source": [
    "#Ще раз перевірити наявність пропущених значень.\n",
    "print(df.isnull().sum())\n"
   ]
  },
  {
   "cell_type": "code",
   "execution_count": 236,
   "id": "10cbe3bf",
   "metadata": {},
   "outputs": [
    {
     "name": "stdout",
     "output_type": "stream",
     "text": [
      "0\n"
     ]
    }
   ],
   "source": [
    "#Перевірити наявність дублікатів. При наявності видалити дублікати\n",
    "print(df.duplicated().sum())\n",
    "df.drop_duplicates(inplace=True)"
   ]
  },
  {
   "cell_type": "code",
   "execution_count": 237,
   "id": "51669600",
   "metadata": {},
   "outputs": [
    {
     "name": "stdout",
     "output_type": "stream",
     "text": [
      "       PassengerId    Survived      Pclass         Age       SibSp  \\\n",
      "count   891.000000  891.000000  891.000000  891.000000  891.000000   \n",
      "mean    446.000000    0.383838    2.308642   29.699118    0.523008   \n",
      "std     257.353842    0.486592    0.836071   13.002015    1.102743   \n",
      "min       1.000000    0.000000    1.000000    0.420000    0.000000   \n",
      "25%     223.500000    0.000000    2.000000   22.000000    0.000000   \n",
      "50%     446.000000    0.000000    3.000000   29.699118    0.000000   \n",
      "75%     668.500000    1.000000    3.000000   35.000000    1.000000   \n",
      "max     891.000000    1.000000    3.000000   80.000000    8.000000   \n",
      "\n",
      "            Parch        Fare  \n",
      "count  891.000000  891.000000  \n",
      "mean     0.381594   32.204208  \n",
      "std      0.806057   49.693429  \n",
      "min      0.000000    0.000000  \n",
      "25%      0.000000    7.910400  \n",
      "50%      0.000000   14.454200  \n",
      "75%      0.000000   31.000000  \n",
      "max      6.000000  512.329200  \n"
     ]
    }
   ],
   "source": [
    "#Вивести описову статистику датасету describe()\n",
    "print(df.describe())\n"
   ]
  },
  {
   "cell_type": "code",
   "execution_count": 245,
   "id": "3ac1e93e",
   "metadata": {},
   "outputs": [],
   "source": [
    "#Видалити стовпчик Cabin\n",
    "df.drop(columns=['Cabin'], inplace=True)\n"
   ]
  },
  {
   "cell_type": "code",
   "execution_count": 246,
   "id": "e18ceeaf",
   "metadata": {},
   "outputs": [],
   "source": [
    "#Сформувати датасет з обраними стовпцями:\n",
    "df = df[['Survived', 'Pclass', 'Sex', 'Age', 'Fare']]\n"
   ]
  },
  {
   "cell_type": "code",
   "execution_count": 247,
   "id": "71db3f17",
   "metadata": {},
   "outputs": [
    {
     "name": "stdout",
     "output_type": "stream",
     "text": [
      "['male' 'female']\n"
     ]
    },
    {
     "name": "stderr",
     "output_type": "stream",
     "text": [
      "C:\\Users\\Саша\\AppData\\Local\\Temp\\ipykernel_7840\\996164113.py:3: SettingWithCopyWarning: \n",
      "A value is trying to be set on a copy of a slice from a DataFrame.\n",
      "Try using .loc[row_indexer,col_indexer] = value instead\n",
      "\n",
      "See the caveats in the documentation: https://pandas.pydata.org/pandas-docs/stable/user_guide/indexing.html#returning-a-view-versus-a-copy\n",
      "  df.loc[:, 'Sex'] = df['Sex'].map({'male': 0, 'female': 1})\n",
      "C:\\Users\\Саша\\AppData\\Local\\Temp\\ipykernel_7840\\996164113.py:3: DeprecationWarning: In a future version, `df.iloc[:, i] = newvals` will attempt to set the values inplace instead of always setting a new array. To retain the old behavior, use either `df[df.columns[i]] = newvals` or, if columns are non-unique, `df.isetitem(i, newvals)`\n",
      "  df.loc[:, 'Sex'] = df['Sex'].map({'male': 0, 'female': 1})\n"
     ]
    },
    {
     "data": {
      "text/html": [
       "<div>\n",
       "<style scoped>\n",
       "    .dataframe tbody tr th:only-of-type {\n",
       "        vertical-align: middle;\n",
       "    }\n",
       "\n",
       "    .dataframe tbody tr th {\n",
       "        vertical-align: top;\n",
       "    }\n",
       "\n",
       "    .dataframe thead th {\n",
       "        text-align: right;\n",
       "    }\n",
       "</style>\n",
       "<table border=\"1\" class=\"dataframe\">\n",
       "  <thead>\n",
       "    <tr style=\"text-align: right;\">\n",
       "      <th></th>\n",
       "      <th>Survived</th>\n",
       "      <th>Pclass</th>\n",
       "      <th>Sex</th>\n",
       "      <th>Age</th>\n",
       "      <th>Fare</th>\n",
       "    </tr>\n",
       "  </thead>\n",
       "  <tbody>\n",
       "    <tr>\n",
       "      <th>0</th>\n",
       "      <td>0</td>\n",
       "      <td>3</td>\n",
       "      <td>0</td>\n",
       "      <td>22.000000</td>\n",
       "      <td>7.2500</td>\n",
       "    </tr>\n",
       "    <tr>\n",
       "      <th>1</th>\n",
       "      <td>1</td>\n",
       "      <td>1</td>\n",
       "      <td>1</td>\n",
       "      <td>38.000000</td>\n",
       "      <td>71.2833</td>\n",
       "    </tr>\n",
       "    <tr>\n",
       "      <th>2</th>\n",
       "      <td>1</td>\n",
       "      <td>3</td>\n",
       "      <td>1</td>\n",
       "      <td>26.000000</td>\n",
       "      <td>7.9250</td>\n",
       "    </tr>\n",
       "    <tr>\n",
       "      <th>3</th>\n",
       "      <td>1</td>\n",
       "      <td>1</td>\n",
       "      <td>1</td>\n",
       "      <td>35.000000</td>\n",
       "      <td>53.1000</td>\n",
       "    </tr>\n",
       "    <tr>\n",
       "      <th>4</th>\n",
       "      <td>0</td>\n",
       "      <td>3</td>\n",
       "      <td>0</td>\n",
       "      <td>35.000000</td>\n",
       "      <td>8.0500</td>\n",
       "    </tr>\n",
       "    <tr>\n",
       "      <th>...</th>\n",
       "      <td>...</td>\n",
       "      <td>...</td>\n",
       "      <td>...</td>\n",
       "      <td>...</td>\n",
       "      <td>...</td>\n",
       "    </tr>\n",
       "    <tr>\n",
       "      <th>886</th>\n",
       "      <td>0</td>\n",
       "      <td>2</td>\n",
       "      <td>0</td>\n",
       "      <td>27.000000</td>\n",
       "      <td>13.0000</td>\n",
       "    </tr>\n",
       "    <tr>\n",
       "      <th>887</th>\n",
       "      <td>1</td>\n",
       "      <td>1</td>\n",
       "      <td>1</td>\n",
       "      <td>19.000000</td>\n",
       "      <td>30.0000</td>\n",
       "    </tr>\n",
       "    <tr>\n",
       "      <th>888</th>\n",
       "      <td>0</td>\n",
       "      <td>3</td>\n",
       "      <td>1</td>\n",
       "      <td>29.699118</td>\n",
       "      <td>23.4500</td>\n",
       "    </tr>\n",
       "    <tr>\n",
       "      <th>889</th>\n",
       "      <td>1</td>\n",
       "      <td>1</td>\n",
       "      <td>0</td>\n",
       "      <td>26.000000</td>\n",
       "      <td>30.0000</td>\n",
       "    </tr>\n",
       "    <tr>\n",
       "      <th>890</th>\n",
       "      <td>0</td>\n",
       "      <td>3</td>\n",
       "      <td>0</td>\n",
       "      <td>32.000000</td>\n",
       "      <td>7.7500</td>\n",
       "    </tr>\n",
       "  </tbody>\n",
       "</table>\n",
       "<p>891 rows × 5 columns</p>\n",
       "</div>"
      ],
      "text/plain": [
       "     Survived  Pclass  Sex        Age     Fare\n",
       "0           0       3    0  22.000000   7.2500\n",
       "1           1       1    1  38.000000  71.2833\n",
       "2           1       3    1  26.000000   7.9250\n",
       "3           1       1    1  35.000000  53.1000\n",
       "4           0       3    0  35.000000   8.0500\n",
       "..        ...     ...  ...        ...      ...\n",
       "886         0       2    0  27.000000  13.0000\n",
       "887         1       1    1  19.000000  30.0000\n",
       "888         0       3    1  29.699118  23.4500\n",
       "889         1       1    0  26.000000  30.0000\n",
       "890         0       3    0  32.000000   7.7500\n",
       "\n",
       "[891 rows x 5 columns]"
      ]
     },
     "execution_count": 247,
     "metadata": {},
     "output_type": "execute_result"
    }
   ],
   "source": [
    "#Замінити бінарні ознаки (Стать) на 0 і 1\n",
    "print(df['Sex'].unique())\n",
    "df.loc[:, 'Sex'] = df['Sex'].map({'male': 0, 'female': 1})\n",
    "df"
   ]
  },
  {
   "cell_type": "code",
   "execution_count": 249,
   "id": "61d84c8f",
   "metadata": {},
   "outputs": [
    {
     "name": "stdout",
     "output_type": "stream",
     "text": [
      "Survived    0\n",
      "Pclass      0\n",
      "Sex         0\n",
      "Age         0\n",
      "Fare        0\n",
      "dtype: int64\n"
     ]
    }
   ],
   "source": [
    "#Ще раз перевірити кількість пропущених даних\n",
    "print(df.isnull().sum())\n"
   ]
  },
  {
   "cell_type": "code",
   "execution_count": 250,
   "id": "eb54e5ba",
   "metadata": {},
   "outputs": [
    {
     "name": "stdout",
     "output_type": "stream",
     "text": [
      "   Survived  Pclass  Sex   Age     Fare\n",
      "0         0       3    0  22.0   7.2500\n",
      "1         1       1    1  38.0  71.2833\n",
      "2         1       3    1  26.0   7.9250\n",
      "3         1       1    1  35.0  53.1000\n",
      "4         0       3    0  35.0   8.0500\n"
     ]
    }
   ],
   "source": [
    "#Вивести 5 перших рядків датасету.\n",
    "print(df.head(5))\n"
   ]
  },
  {
   "cell_type": "code",
   "execution_count": 251,
   "id": "da968f6a",
   "metadata": {},
   "outputs": [
    {
     "name": "stdout",
     "output_type": "stream",
     "text": [
      "     Survived  Pclass  Sex        Age   Fare\n",
      "886         0       2    0  27.000000  13.00\n",
      "887         1       1    1  19.000000  30.00\n",
      "888         0       3    1  29.699118  23.45\n",
      "889         1       1    0  26.000000  30.00\n",
      "890         0       3    0  32.000000   7.75\n"
     ]
    }
   ],
   "source": [
    "#Вивести 5 останніх рядків датасету.\n",
    "print(df.tail(5))"
   ]
  },
  {
   "cell_type": "code",
   "execution_count": 252,
   "id": "bc0c33dc",
   "metadata": {},
   "outputs": [
    {
     "name": "stdout",
     "output_type": "stream",
     "text": [
      "Sex\n",
      "0    18.890815\n",
      "1    74.203822\n",
      "Name: Survived, dtype: float64\n"
     ]
    }
   ],
   "source": [
    "#Аналіз виживання залежно від статі: Обчисліть відсоток виживання для кожної статі\n",
    "survival_by_sex = df.groupby('Sex')['Survived'].mean() * 100\n",
    "print(survival_by_sex)\n",
    "#У чоловіків була менша вірогідність вижити"
   ]
  },
  {
   "cell_type": "code",
   "execution_count": 253,
   "id": "7378777c",
   "metadata": {},
   "outputs": [
    {
     "name": "stdout",
     "output_type": "stream",
     "text": [
      "Pclass\n",
      "1    62.962963\n",
      "2    47.282609\n",
      "3    24.236253\n",
      "Name: Survived, dtype: float64\n"
     ]
    }
   ],
   "source": [
    "#Обчисліть відсоток виживання для кожного класу (Pclass).\n",
    "survival_by_class = df.groupby('Pclass')['Survived'].mean() * 100\n",
    "print(survival_by_class)\n",
    "#Найбільший відсоток виживання мала перша група\n"
   ]
  },
  {
   "cell_type": "code",
   "execution_count": 255,
   "id": "a0b02b7f",
   "metadata": {},
   "outputs": [
    {
     "name": "stdout",
     "output_type": "stream",
     "text": [
      "Середній вік виживших: 28.549778121775027\n",
      "Середній вік не виживших: 30.415099646415943\n"
     ]
    }
   ],
   "source": [
    "#Визначте середній вік тих, хто вижив, і тих, хто не вижив.\n",
    "mean_age_survived = df[df['Survived'] == 1]['Age'].mean()\n",
    "mean_age_not_survived = df[df['Survived'] == 0]['Age'].mean()\n",
    "print(f\"Середній вік виживших: {mean_age_survived}\")\n",
    "print(f\"Середній вік не виживших: {mean_age_not_survived}\")\n",
    "#Вік не впливає на виживання, бо різниця мінімальна"
   ]
  },
  {
   "cell_type": "code",
   "execution_count": 256,
   "id": "7b1ec104",
   "metadata": {},
   "outputs": [
    {
     "name": "stdout",
     "output_type": "stream",
     "text": [
      "FareGroup\n",
      "(0, 10]       20.560748\n",
      "(10, 20]      42.458101\n",
      "(20, 30]      44.366197\n",
      "(30, 40]      39.655172\n",
      "(40, 50]      25.000000\n",
      "(50, 100]     65.420561\n",
      "(100, 200]    75.757576\n",
      "Name: Survived, dtype: float64\n"
     ]
    },
    {
     "name": "stderr",
     "output_type": "stream",
     "text": [
      "C:\\Users\\Саша\\AppData\\Local\\Temp\\ipykernel_7840\\1446871778.py:3: SettingWithCopyWarning: \n",
      "A value is trying to be set on a copy of a slice from a DataFrame.\n",
      "Try using .loc[row_indexer,col_indexer] = value instead\n",
      "\n",
      "See the caveats in the documentation: https://pandas.pydata.org/pandas-docs/stable/user_guide/indexing.html#returning-a-view-versus-a-copy\n",
      "  df['FareGroup'] = pd.cut(df['Fare'], bins=fare_bins)\n"
     ]
    }
   ],
   "source": [
    "#Розподіліть пасажирів на групи за рівнями тарифів (Fare) і обчисліть рівень виживання для кожної групи\n",
    "fare_bins = [0, 10, 20, 30, 40, 50, 100, 200]\n",
    "df['FareGroup'] = pd.cut(df['Fare'], bins=fare_bins)\n",
    "survival_by_fare_group = df.groupby('FareGroup')['Survived'].mean() * 100\n",
    "print(survival_by_fare_group)\n",
    "#Чим преміальніше тариф, тим більше відсоток виживання, принаймні у тарифах від 50-200"
   ]
  },
  {
   "cell_type": "code",
   "execution_count": 257,
   "id": "3d3e6604",
   "metadata": {},
   "outputs": [
    {
     "name": "stdout",
     "output_type": "stream",
     "text": [
      "Pclass\n",
      "1    84.154687\n",
      "2    20.662183\n",
      "3    13.675550\n",
      "Name: Fare, dtype: float64\n"
     ]
    }
   ],
   "source": [
    "#Аналіз класу та тарифу: Визначте середній тариф (Fare) для кожного класу (Pclass).\n",
    "mean_fare_by_class = df.groupby('Pclass')['Fare'].mean()\n",
    "print(mean_fare_by_class)\n",
    "#Перший тариф має колосальну різницю у виживанні над іншими тарифами"
   ]
  },
  {
   "cell_type": "code",
   "execution_count": 258,
   "id": "6fedbd63",
   "metadata": {},
   "outputs": [
    {
     "name": "stdout",
     "output_type": "stream",
     "text": [
      "Pclass\n",
      "1    37.048118\n",
      "2    29.866958\n",
      "3    26.403259\n",
      "Name: Age, dtype: float64\n"
     ]
    }
   ],
   "source": [
    "#Обчисліть середній вік пасажирів для кожного класу (Pclass).\n",
    "mean_age_by_class = df.groupby('Pclass')['Age'].mean()\n",
    "print(mean_age_by_class)\n",
    "#чим вище клас, тим вище середній вік"
   ]
  },
  {
   "cell_type": "code",
   "execution_count": 259,
   "id": "f81c9ed2",
   "metadata": {},
   "outputs": [
    {
     "data": {
      "image/png": "[encoded data removed]",
      "text/plain": [
       "<Figure size 640x480 with 1 Axes>"
      ]
     },
     "metadata": {},
     "output_type": "display_data"
    }
   ],
   "source": [
    "#Побудуйте гістограму розподілу віку для тих, хто вижив, і тих, хто не вижив.\n",
    "plt.hist(df[df['Survived'] == 1]['Age'], bins=20, alpha=0.5, label='Вижили')\n",
    "plt.hist(df[df['Survived'] == 0]['Age'], bins=20, alpha=0.5, label='Не вижили')\n",
    "plt.xlabel('Вік')\n",
    "plt.ylabel('Частота')\n",
    "plt.legend(loc='upper right')\n",
    "plt.show()\n",
    "#У віці 20-40 найбільша частота не виживання"
   ]
  },
  {
   "cell_type": "code",
   "execution_count": 260,
   "id": "95b4a8da",
   "metadata": {},
   "outputs": [
    {
     "name": "stdout",
     "output_type": "stream",
     "text": [
      "Sex  Pclass\n",
      "0    1         36.885246\n",
      "     2         15.740741\n",
      "     3         13.544669\n",
      "1    1         96.808511\n",
      "     2         92.105263\n",
      "     3         50.000000\n",
      "Name: Survived, dtype: float64\n"
     ]
    }
   ],
   "source": [
    "#Обчисліть відсоток виживання для кожної комбінації статі\n",
    "#та класу (наприклад, жінки в 1-му класі, чоловіки в 3-му класі)\n",
    "survival_by_sex_class = df.groupby(['Sex', 'Pclass'])['Survived'].mean() * 100\n",
    "print(survival_by_sex_class)\n",
    "#1 група жінок мала найвищу вірогідність виживання серед обох статей з процентом виживання 96%"
   ]
  },
  {
   "cell_type": "code",
   "execution_count": 264,
   "id": "9074fff6",
   "metadata": {},
   "outputs": [
    {
     "name": "stdout",
     "output_type": "stream",
     "text": [
      "Survived    1.000000\n",
      "Pclass     -0.338481\n",
      "Sex         0.543351\n",
      "Age        -0.069809\n",
      "Fare        0.257307\n",
      "Name: Survived, dtype: float64\n"
     ]
    },
    {
     "name": "stderr",
     "output_type": "stream",
     "text": [
      "C:\\Users\\Саша\\AppData\\Local\\Temp\\ipykernel_7840\\1682458601.py:2: FutureWarning: The default value of numeric_only in DataFrame.corr is deprecated. In a future version, it will default to False. Select only valid columns or specify the value of numeric_only to silence this warning.\n",
      "  correlation = df.corr()\n"
     ]
    }
   ],
   "source": [
    "#Обчисліть кореляцію між усіма числовими змінними (Survived, Pclass, Age, Fare).\n",
    "correlation = df.corr()\n",
    "print(correlation['Survived'])\n",
    "#Чим вище тариф, тим більша вірогідність вижити\n",
    "#Чим більше люди платили (fare), тим більшу вірогідність мали на виживання\n"
   ]
  },
  {
   "cell_type": "code",
   "execution_count": 265,
   "id": "4eafa4ed",
   "metadata": {},
   "outputs": [],
   "source": [
    "#Висновок\n",
    "#На основі завдання 1 Було проаналізовано датасет щодо ВВП країн за три роки.\n",
    "#Проведено очищення і попередній аналіз даних, визначено основні характеристики.\n",
    "#Розраховані статистики, кореляції та побудовані візуалізації.\n",
    "#Отримано відповіді стосовно країн з найвищими/нижчими показниками та їх частки.\n",
    "\n",
    "#На основі завдання 2 Було проаналізовано датасет про пасажирів Титаніка.\n",
    "#Проведено очищення і попередній аналіз даних,\n",
    "#Розраховані статистики та кореляції щодо виживання залежно від\n",
    "#різних чинників. Отримано відповідні висновки.\n",
    "\n",
    "\n"
   ]
  },
  {
   "cell_type": "code",
   "execution_count": null,
   "id": "d320beba",
   "metadata": {},
   "outputs": [],
   "source": []
  }
 ],
 "metadata": {
  "kernelspec": {
   "display_name": "Python 3 (ipykernel)",
   "language": "python",
   "name": "python3"
  },
  "language_info": {
   "codemirror_mode": {
    "name": "ipython",
    "version": 3
   },
   "file_extension": ".py",
   "mimetype": "text/x-python",
   "name": "python",
   "nbconvert_exporter": "python",
   "pygments_lexer": "ipython3",
   "version": "3.11.5"
  }
 },
 "nbformat": 4,
 "nbformat_minor": 5
}
